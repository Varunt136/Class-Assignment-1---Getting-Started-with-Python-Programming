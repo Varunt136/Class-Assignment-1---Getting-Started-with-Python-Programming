{
  "nbformat": 4,
  "nbformat_minor": 0,
  "metadata": {
    "colab": {
      "name": "Untitled0.ipynb",
      "provenance": [],
      "authorship_tag": "ABX9TyMDMPTS2yMZU/jGLH9Aux25",
      "include_colab_link": true
    },
    "kernelspec": {
      "name": "python3",
      "display_name": "Python 3"
    }
  },
  "cells": [
    {
      "cell_type": "markdown",
      "metadata": {
        "id": "view-in-github",
        "colab_type": "text"
      },
      "source": [
        "<a href=\"https://colab.research.google.com/github/Varunt136/Class-Assignment-1---Getting-Started-with-Python-Programming/blob/master/Untitled0.ipynb\" target=\"_parent\"><img src=\"https://colab.research.google.com/assets/colab-badge.svg\" alt=\"Open In Colab\"/></a>"
      ]
    },
    {
      "cell_type": "code",
      "metadata": {
        "id": "DjZ_iwF7ep5A"
      },
      "source": [
        " \n",
        "try:\n",
        "  a=float(input(\"Enter the first number: \"))\n",
        "  b=float(input(\"Enter the second number: \"))\n",
        "  c=float(input(\"Enter the third number: \"))\n",
        " \n",
        "  if a>b:\n",
        "    large=a\n",
        "  else:\n",
        "    large=b\n",
        "  if large<c:\n",
        "    large=c\n",
        "  print(\"largest number:\",large)\n",
        "except:\n",
        "  print(\"Bad input!\")"
      ],
      "execution_count": null,
      "outputs": []
    }
  ]
}